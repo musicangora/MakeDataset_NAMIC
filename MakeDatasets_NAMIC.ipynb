{
  "nbformat": 4,
  "nbformat_minor": 0,
  "metadata": {
    "colab": {
      "name": "MakeDatasets_NAMIC.ipynb",
      "provenance": [],
      "mount_file_id": "1oJTGsnJZZUAIqnkhvxTAcoEJKSkhRozo",
      "authorship_tag": "ABX9TyNJCOomnJ/oAXKhh0A+MIOD",
      "include_colab_link": true
    },
    "kernelspec": {
      "name": "python3",
      "display_name": "Python 3"
    }
  },
  "cells": [
    {
      "cell_type": "markdown",
      "metadata": {
        "id": "view-in-github",
        "colab_type": "text"
      },
      "source": [
        "<a href=\"https://colab.research.google.com/github/musicangora/MakeDataset_NAMIC/blob/main/MakeDatasets_NAMIC.ipynb\" target=\"_parent\"><img src=\"https://colab.research.google.com/assets/colab-badge.svg\" alt=\"Open In Colab\"/></a>"
      ]
    },
    {
      "cell_type": "markdown",
      "metadata": {
        "id": "QK0VLaMcL0d0"
      },
      "source": [
        "## データセット入手先\n",
        "[NAMIC: Brain Mutlimodality](https://www.insight-journal.org/midas/collection/view/190/1)\n",
        "\n",
        "※t1w.nrrdとt2w.nrrdをダウンロード"
      ]
    },
    {
      "cell_type": "markdown",
      "metadata": {
        "id": "aMB9QsfLRWZB"
      },
      "source": [
        "## ディレクトリ構成\n",
        "### pix2pix\n",
        "```\n",
        "T1T2_pix2pix/\n",
        "    ├ train/\n",
        "    │    └ T1-T2 image\n",
        "    └ test/\n",
        "          └ T1-T2 image\n",
        "```\n",
        "\n",
        "### CycleGAN\n",
        "```\n",
        "T1T2_cyclegan/\n",
        "    ├ trainA/\n",
        "    │    └ T1 image\n",
        "    ├ testA/\n",
        "    │    └ T1 image\n",
        "    ├ trainB/\n",
        "    │    └ T2 image\n",
        "    └ testB/\n",
        "          └ T2 image\n",
        "```"
      ]
    },
    {
      "cell_type": "code",
      "metadata": {
        "id": "cg0IS-MkV8m1",
        "outputId": "4dc9f23a-b920-448a-8c81-388a8a764b80",
        "colab": {
          "base_uri": "https://localhost:8080/"
        }
      },
      "source": [
        "# .zipをルートに展開\n",
        "!unzip '/content/drive/My Drive/NAMIC.zip'"
      ],
      "execution_count": 1,
      "outputs": [
        {
          "output_type": "stream",
          "text": [
            "Archive:  /content/drive/My Drive/NAMIC.zip\n",
            "   creating: NAMIC/\n",
            "  inflating: NAMIC/PNL_3Tcaselist_NAMIC.xls  \n",
            "   creating: NAMIC/t1/\n",
            "  inflating: NAMIC/t1/desktop.ini    \n",
            "   creating: NAMIC/t1/NC/\n",
            "  inflating: NAMIC/t1/NC/01019-t1w.nrrd  \n",
            "  inflating: NAMIC/t1/NC/01020-t1w.nrrd  \n",
            "  inflating: NAMIC/t1/NC/01025-t1w.nrrd  \n",
            "  inflating: NAMIC/t1/NC/01026-t1w.nrrd  \n",
            "  inflating: NAMIC/t1/NC/01029-t1w.nrrd  \n",
            "  inflating: NAMIC/t1/NC/01033-t1w.nrrd  \n",
            "  inflating: NAMIC/t1/NC/01034-t1w.nrrd  \n",
            "  inflating: NAMIC/t1/NC/01035-t1w.nrrd  \n",
            "  inflating: NAMIC/t1/NC/01041-t1w.nrrd  \n",
            "  inflating: NAMIC/t1/NC/01104-t1w.nrrd  \n",
            "  inflating: NAMIC/t1/NC/desktop.ini  \n",
            "   creating: NAMIC/t1/SZ/\n",
            "  inflating: NAMIC/t1/SZ/01011-t1w.nrrd  \n",
            "  inflating: NAMIC/t1/SZ/01015-t1w.nrrd  \n",
            "  inflating: NAMIC/t1/SZ/01017-t1w.nrrd  \n",
            "  inflating: NAMIC/t1/SZ/01018-t1w.nrrd  \n",
            "  inflating: NAMIC/t1/SZ/01028-t1w.nrrd  \n",
            "  inflating: NAMIC/t1/SZ/01039-t1w.nrrd  \n",
            "  inflating: NAMIC/t1/SZ/01042-t1w.nrrd  \n",
            "  inflating: NAMIC/t1/SZ/01044-t1w.nrrd  \n",
            "  inflating: NAMIC/t1/SZ/01045-t1w.nrrd  \n",
            "  inflating: NAMIC/t1/SZ/01073-t1w.nrrd  \n",
            "  inflating: NAMIC/t1/SZ/desktop.ini  \n",
            "   creating: NAMIC/t2/\n",
            "   creating: NAMIC/t2/NC/\n",
            "  inflating: NAMIC/t2/NC/01019-t2w.nrrd  \n",
            "  inflating: NAMIC/t2/NC/01020-t2w.nrrd  \n",
            "  inflating: NAMIC/t2/NC/01025-t2w.nrrd  \n",
            "  inflating: NAMIC/t2/NC/01026-t2w.nrrd  \n",
            "  inflating: NAMIC/t2/NC/01029-t2w.nrrd  \n",
            "  inflating: NAMIC/t2/NC/01033-t2w.nrrd  \n",
            "  inflating: NAMIC/t2/NC/01034-t2w.nrrd  \n",
            "  inflating: NAMIC/t2/NC/01035-t2w.nrrd  \n",
            "  inflating: NAMIC/t2/NC/01041-t2w.nrrd  \n",
            "  inflating: NAMIC/t2/NC/01104-t2w.nrrd  \n",
            "   creating: NAMIC/t2/SZ/\n",
            "  inflating: NAMIC/t2/SZ/01011-t2w.nrrd  \n",
            "  inflating: NAMIC/t2/SZ/01015-t2w.nrrd  \n",
            "  inflating: NAMIC/t2/SZ/01017-t2w.nrrd  \n",
            "  inflating: NAMIC/t2/SZ/01018-t2w.nrrd  \n",
            "  inflating: NAMIC/t2/SZ/01028-t2w.nrrd  \n",
            "  inflating: NAMIC/t2/SZ/01039-t2w.nrrd  \n",
            "  inflating: NAMIC/t2/SZ/01042-t2w.nrrd  \n",
            "  inflating: NAMIC/t2/SZ/01044-t2w.nrrd  \n",
            "  inflating: NAMIC/t2/SZ/01045-t2w.nrrd  \n",
            "  inflating: NAMIC/t2/SZ/01073-t2w.nrrd  \n"
          ],
          "name": "stdout"
        }
      ]
    },
    {
      "cell_type": "code",
      "metadata": {
        "id": "QRMyWlVdmODy",
        "outputId": "d4f667f2-9f38-429a-93c4-1b24f93361e9",
        "colab": {
          "base_uri": "https://localhost:8080/"
        }
      },
      "source": [
        "!pip install simpleitk"
      ],
      "execution_count": 2,
      "outputs": [
        {
          "output_type": "stream",
          "text": [
            "Collecting simpleitk\n",
            "\u001b[?25l  Downloading https://files.pythonhosted.org/packages/f3/cb/a15f4612af8e37f3627fc7fb2f91d07bb584968b0a47e3d5103d7014f93e/SimpleITK-2.0.1-cp36-cp36m-manylinux1_x86_64.whl (44.9MB)\n",
            "\u001b[K     |████████████████████████████████| 44.9MB 98kB/s \n",
            "\u001b[?25hInstalling collected packages: simpleitk\n",
            "Successfully installed simpleitk-2.0.1\n"
          ],
          "name": "stdout"
        }
      ]
    },
    {
      "cell_type": "code",
      "metadata": {
        "id": "1fFoVSy5L7Lb"
      },
      "source": [
        "import os\n",
        "import numpy as np\n",
        "import matplotlib.pyplot as plt\n",
        "from glob import glob\n",
        "import shutil\n",
        "import SimpleITK as sitk\n",
        "from PIL import Image, ImageOps\n",
        "\n",
        "class MakeDataset():\n",
        "    \"\"\"pix2pixやCycleGAN用のデータセットを作成するクラス\"\"\"\n",
        "    def __init__(self, A_path, B_path, dataset_type, img_res=(256, 256), dataset_slice=(0, -1), is_16bit=True):\n",
        "        self.A_path = A_path\n",
        "        self.B_path = B_path\n",
        "        self.dataset_type = dataset_type\n",
        "        self.dataset_slice = dataset_slice\n",
        "        self.height = img_res[0]\n",
        "        self.width = img_res[1]\n",
        "        if self.dataset_type != \"pix2pix\" and self.dataset_type != \"cyclegan\":\n",
        "            raise Exception('dataset_type error! Please input pix2pix or cyclegan.')\n",
        "        self.format = np.uint16 if is_16bit else np.uint8\n",
        "        self.format_range = 65535 if is_16bit else 255\n",
        "    \n",
        "    def __make_dir(self):\n",
        "        \"\"\"保存用のディレクトリを作成\"\"\"\n",
        "        if self.dataset_type == \"pix2pix\":\n",
        "            os.makedirs('T1T2_pix2pix/test/', exist_ok=True)\n",
        "            os.makedirs('T1T2_pix2pix/train/', exist_ok=True)\n",
        "        if self.dataset_type == \"cyclegan\":\n",
        "            os.makedirs('T1T2_cyclegan/testA/', exist_ok=True)\n",
        "            os.makedirs('T1T2_cyclegan/trainA/', exist_ok=True)\n",
        "            os.makedirs('T1T2_cyclegan/testB/', exist_ok=True)\n",
        "            os.makedirs('T1T2_cyclegan/trainB/', exist_ok=True)\n",
        "\n",
        "    def __load(self, path):\n",
        "        \"\"\"ファイルを読み込み、ndarrayに変換\"\"\"\n",
        "        # 入力：単一のパス、出力：画像のリスト\n",
        "        imgs = sitk.GetArrayFromImage(sitk.ReadImage(path))\n",
        "        start = self.dataset_slice[0]\n",
        "        end = imgs.shape[0] if self.dataset_slice[1] == -1 or self.dataset_slice[1] > imgs.shape[0] else self.dataset_slice[1]\n",
        "        return imgs[start:end]\n",
        "\n",
        "    def __joint(self, A, B):\n",
        "        \"\"\"pix2pix用に2つの画像を結合する\"\"\"\n",
        "        # 入力：AとBの画像のリスト(3次元)、出力：AとBを左右に結合した画像のリスト(3次元)\n",
        "        joint_imgs = np.empty((0, self.height, self.width*2))\n",
        "        for i in range(A.shape[0]):\n",
        "            joint_img = np.concatenate( (self.__normalize(A[i]), self.__normalize(B[i])), axis=1)\n",
        "            joint_img = joint_img[np.newaxis]\n",
        "            joint_imgs = np.append(joint_imgs, joint_img, axis=0)\n",
        "        return joint_imgs\n",
        "\n",
        "    def __save(self, data_list, dir_type):\n",
        "        \"\"\"画像をuint8で保存する\"\"\"\n",
        "        # 入力：リスト、出力：画像\n",
        "        for i, data in enumerate(data_list):\n",
        "            tmp = data if self.dataset_type == 'pix2pix' else self.__normalize(data)\n",
        "            Image.fromarray(tmp.astype(self.format)).save('/content/T1T2_%s/%s/%s.png'%(self.dataset_type, dir_type, i))\n",
        "    \n",
        "    def __normalize(self, img):\n",
        "        \"\"\"画像の正規化\"\"\"\n",
        "        # 入力：画像、出力：画素値の最大値で割ることで正規化した画像\n",
        "        max = img.flatten().max()\n",
        "        return (img/max)*self.format_range\n",
        "\n",
        "\n",
        "\n",
        "    def validate(self):\n",
        "        pass\n",
        "\n",
        "    def hist(self, data):\n",
        "        \"\"\"入力された画像のヒストグラムを表示\"\"\"\n",
        "        # 入力：画像(1枚でも複数でも可)、出力：ヒストグラムの画像\n",
        "        plt.hist(data.flatten(), bins=100)\n",
        "        plt.title('histgram')\n",
        "        plt.show()\n",
        "        return 0\n",
        "\n",
        "    def pack(self):\n",
        "        \"\"\"データセットの作成\"\"\"\n",
        "        A_path_list = sorted(glob('%s/*.nrrd'%(self.A_path)))\n",
        "        B_path_list = sorted(glob('%s/*.nrrd'%(self.B_path)))\n",
        "\n",
        "        if self.dataset_type == 'pix2pix':\n",
        "            imgs = np.empty((0, self.height, self.width*2))\n",
        "        else:\n",
        "            imgsA = np.empty((0, self.height, self.width))\n",
        "            imgsB = np.empty((0, self.height, self.width))\n",
        "\n",
        "        for A_path, B_path in zip(A_path_list, B_path_list):\n",
        "            dataA = self.__load(A_path)\n",
        "            dataB = self.__load(B_path)\n",
        "            if self.dataset_type == 'pix2pix':\n",
        "                imgs = np.append(imgs, self.__joint(dataA, dataB), axis=0)\n",
        "            else:\n",
        "                imgsA = np.append(imgsA, dataA, axis=0)\n",
        "                imgsB = np.append(imgsB, dataB, axis=0)\n",
        "\n",
        "        self.__make_dir()\n",
        "        if self.dataset_type == 'pix2pix':\n",
        "            data_num = imgs.shape[0]\n",
        "            num = int(data_num * 0.8)\n",
        "            self.__save(imgs[:num], 'train')\n",
        "            self.__save(imgs[num:], 'test')\n",
        "        else:\n",
        "            data_num = imgsA.shape[0]\n",
        "            num = int(data_num * 0.8)\n",
        "            self.__save(imgsA[:num], 'trainA')\n",
        "            self.__save(imgsB[:num], 'trainB')\n",
        "            self.__save(imgsA[num:], 'testA')\n",
        "            self.__save(imgsB[num:], 'testB')\n",
        "        \n",
        "        # zip圧縮\n",
        "        path = '/content/T1T2_%s' % ('pix2pix' if self.dataset_type=='pix2pix' else 'cyclegan')\n",
        "        shutil.make_archive(path, 'zip', root_dir=path)\n",
        "        # ファイルコピー\n",
        "        shutil.copy2(path+'.zip', '/content/drive/My Drive/')\n",
        "\n",
        "        print(\"End!\")\n"
      ],
      "execution_count": 8,
      "outputs": []
    },
    {
      "cell_type": "code",
      "metadata": {
        "id": "EXTZUQb6W5wO",
        "outputId": "f12baf38-e236-437c-b888-693ff5236497",
        "colab": {
          "base_uri": "https://localhost:8080/"
        }
      },
      "source": [
        "dataset = MakeDataset('/content/NAMIC/t1/NC', '/content/NAMIC/t2/NC', dataset_type='cyclegan', dataset_slice=(100, 120), is_16bit=False)\n",
        "dataset.pack()"
      ],
      "execution_count": 9,
      "outputs": [
        {
          "output_type": "stream",
          "text": [
            "End!\n"
          ],
          "name": "stdout"
        }
      ]
    },
    {
      "cell_type": "code",
      "metadata": {
        "id": "YEDG5us_-blY",
        "outputId": "fc70d23e-9273-45ff-8d26-5aab58d81f48",
        "colab": {
          "base_uri": "https://localhost:8080/"
        }
      },
      "source": [
        "!rm -r T1T2_cyclegan\n",
        "!rm -r T1T2_pix2pix"
      ],
      "execution_count": null,
      "outputs": [
        {
          "output_type": "stream",
          "text": [
            "rm: cannot remove 'T1T2_pix2pix': No such file or directory\n"
          ],
          "name": "stdout"
        }
      ]
    }
  ]
}